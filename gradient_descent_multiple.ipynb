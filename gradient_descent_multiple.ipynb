{
 "cells": [
  {
   "cell_type": "markdown",
   "id": "ce34fd70-aa67-4252-a778-465d04a5a4bc",
   "metadata": {},
   "source": [
    "### This is from the Coursera/ deeplearning AI class Supervised Machine Learning: Regression and Classification\n",
    "\n",
    "- I copied it down (I did not write most of the code). It's just for learning purposes and so I can reference it later!"
   ]
  },
  {
   "cell_type": "code",
   "execution_count": null,
   "id": "d1d650b0-2077-4de3-af8a-1a6bda29371b",
   "metadata": {},
   "outputs": [],
   "source": []
  }
 ],
 "metadata": {
  "kernelspec": {
   "display_name": "Python 3 (ipykernel)",
   "language": "python",
   "name": "python3"
  },
  "language_info": {
   "codemirror_mode": {
    "name": "ipython",
    "version": 3
   },
   "file_extension": ".py",
   "mimetype": "text/x-python",
   "name": "python",
   "nbconvert_exporter": "python",
   "pygments_lexer": "ipython3",
   "version": "3.13.2"
  }
 },
 "nbformat": 4,
 "nbformat_minor": 5
}
